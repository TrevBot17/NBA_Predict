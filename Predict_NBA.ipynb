{
  "nbformat": 4,
  "nbformat_minor": 0,
  "metadata": {
    "colab": {
      "provenance": [],
      "include_colab_link": true
    },
    "kernelspec": {
      "name": "python3",
      "display_name": "Python 3"
    },
    "language_info": {
      "name": "python"
    }
  },
  "cells": [
    {
      "cell_type": "markdown",
      "metadata": {
        "id": "view-in-github",
        "colab_type": "text"
      },
      "source": [
        "<a href=\"https://colab.research.google.com/github/TrevBot17/NBA_Predict/blob/main/Predict_NBA.ipynb\" target=\"_parent\"><img src=\"https://colab.research.google.com/assets/colab-badge.svg\" alt=\"Open In Colab\"/></a>"
      ]
    },
    {
      "cell_type": "markdown",
      "source": [
        "## Imports"
      ],
      "metadata": {
        "id": "O2QZJr3rKy4n"
      }
    },
    {
      "cell_type": "code",
      "execution_count": null,
      "metadata": {
        "id": "4J0D-d71Cmht"
      },
      "outputs": [],
      "source": [
        "from datetime import datetime, timedelta\n",
        "from sklearn.ensemble import RandomForestRegressor\n",
        "from sklearn.metrics import mean_absolute_error\n",
        "from sklearn.model_selection import train_test_split\n",
        "import numpy as np\n",
        "import pandas as pd\n",
        "import time"
      ]
    },
    {
      "cell_type": "code",
      "source": [
        "team_dict = {'Atlanta Hawks' : 'ATL',\n",
        "             'Boston Celtics' : 'BOS',\n",
        "             'Brooklyn Nets' : 'BRK',\n",
        "             'Charlotte Hornets' : 'CHO',\n",
        "             'Chicago Bulls' : 'CHI',\n",
        "             'Cleveland Cavaliers' : 'CLE',\n",
        "             'Dallas Mavericks' : 'DAL',\n",
        "             'Denver Nuggets' : 'DEN',\n",
        "             'Detroit Pistons' : 'DET',\n",
        "             'Golden State Warriors' : 'GSW',\n",
        "             'Houston Rockets' : 'HOU',\n",
        "             'Indiana Pacers' : 'IND',\n",
        "             'Los Angeles Clippers' : 'LAC',\n",
        "             'Los Angeles Lakers' : 'LAL',\n",
        "             'Memphis Grizzlies' : 'MEM',\n",
        "             'Miami Heat' : 'MIA',\n",
        "             'Milwaukee Bucks' : 'MIL',\n",
        "             'Minnesota Timberwolves' : 'MIN',\n",
        "             'New Orleans Pelicans' : 'NOP',\n",
        "             'New York Knicks' : 'NYK',\n",
        "             'Oklahoma City Thunder' : 'OKC',\n",
        "             'Orlando Magic' : 'ORL',\n",
        "             'Philadelphia 76ers' : 'PHI',\n",
        "             'Phoenix Suns' : 'PHO',\n",
        "             'Portland Trail Blazers' : 'POR',\n",
        "             'Sacramento Kings' : 'SAC',\n",
        "             'San Antonio Spurs' : 'SAS',\n",
        "             'Toronto Raptors' : 'TOR',\n",
        "             'Utah Jazz' : 'UTA',\n",
        "             'Washington Wizards' : 'WAS'}"
      ],
      "metadata": {
        "id": "bn8nT2rGZOzo"
      },
      "execution_count": null,
      "outputs": []
    },
    {
      "cell_type": "markdown",
      "source": [
        "## Defensive Ranks"
      ],
      "metadata": {
        "id": "-ZKpy-Pqmebi"
      }
    },
    {
      "cell_type": "code",
      "source": [
        "def defensive_rank(season):\n",
        "  # Opponent Defensive Rank\n",
        "  def_url = 'https://www.basketball-reference.com/leagues/NBA_{}_ratings.html'.format(str(season))\n",
        "  def_data = pd.read_html(def_url, skiprows = 1, header = 0)[0]\n",
        "  return def_data[['Team', 'DRtg/A']]"
      ],
      "metadata": {
        "id": "aQMT2EUXmd8J"
      },
      "execution_count": null,
      "outputs": []
    },
    {
      "cell_type": "markdown",
      "source": [
        "## Get Data And Predict"
      ],
      "metadata": {
        "id": "eV-0D5_9Oozx"
      }
    },
    {
      "cell_type": "code",
      "source": [
        "# Make it all a function\n",
        "def predict_points(season, team, def_ranks):\n",
        "  # Season: int (ex: 2022)\n",
        "  # Team: str (ex: 'BOS')\n",
        "  # Def_Ranks: dataframe created above. limit calls to bball-ref\n",
        "\n",
        "  url = 'https://www.basketball-reference.com/teams/{}/{}_games.html'.format(team, str(season))\n",
        "  data = pd.read_html(url)[0]\n",
        "  data = data.rename(columns = {'Unnamed: 5' : 'Home',\n",
        "                              'Unnamed: 7' : 'Result',\n",
        "                              'Unnamed: 8' : 'Overtime',\n",
        "                              'Tm' : 'Points_For',\n",
        "                              'Opp' : 'Points_Against'})\n",
        "\n",
        "  # Filter out extra rows in table\n",
        "  data = data.loc[data['G'] != 'G']\n",
        "\n",
        "  # Convert Date to datetime objects\n",
        "  data['Date'] = pd.to_datetime(data['Date'])\n",
        "\n",
        "  # Filter out games that haven't been played yet\n",
        "  today = (datetime.today() - timedelta(hours = 8)).strftime('%Y-%m-%d')\n",
        "  data = data[data['Date'] <= today]\n",
        "\n",
        "  # Convert Points_For to int\n",
        "  data['Points_For'] = data['Points_For'].astype('int', errors = 'ignore')\n",
        "\n",
        "  # Clean Home/Away column\n",
        "  data['Home'] = data['Home'].replace('@', 0)\n",
        "  data['Home'] = data['Home'].fillna(1)\n",
        "  data['Home'] = data['Home'].astype('int')\n",
        "\n",
        "  # Add Days Rest column\n",
        "  data['Days_Rest'] = data.Date.diff() - timedelta(days = 1)\n",
        "  data['Days_Rest'] = data['Days_Rest'].fillna(data['Days_Rest'].median())\n",
        "  data['Days_Rest'] = pd.to_numeric(data.Days_Rest.dt.days, downcast = 'integer')\n",
        "\n",
        "  # Join data and def_data to add DRtg/A (adjusted defensive rating)\n",
        "  data = data.merge(def_ranks, left_on = 'Opponent', right_on = 'Team').sort_values(by = ['Date'])\n",
        "\n",
        "  # Set index to Date\n",
        "  data = data.set_index('Date')\n",
        "\n",
        "  # Avg points per game for the season\n",
        "  data['Avg_Pts'] = data['Points_For'].rolling(window = 82, min_periods = 1).mean().shift(periods = 1)\n",
        "  # data['Avg_Pts'].fillna(data['Avg_Pts'].mean()) not sure if a good idea to impute\n",
        "\n",
        "  # Avg points per game last three games\n",
        "  data['Avg_Pts_Last_3'] = data['Points_For'].rolling(window = 3, min_periods = 1).mean().shift(periods = 1)\n",
        "\n",
        "  # Only numerical columns for regression\n",
        "  # data variable has everything, plus NA values. df only has numerical values for regression\n",
        "  df = data[['Points_For', 'Avg_Pts', 'Avg_Pts_Last_3', 'Home', 'Days_Rest', 'DRtg/A']].dropna()\n",
        "\n",
        "  # Train Test Split\n",
        "  X = df[['Avg_Pts', 'Avg_Pts_Last_3', 'Home', 'Days_Rest', 'DRtg/A']]\n",
        "  y = df['Points_For']\n",
        "  X_train, X_test, y_train, y_test = train_test_split(X, y, test_size = 0.2, random_state = 17)\n",
        "\n",
        "  # RF consistently performs best. Not sure of real life applications of model choice\n",
        "  rf = RandomForestRegressor(n_estimators = 500, max_depth = 2, random_state = 17).fit(X_train, y_train)\n",
        "\n",
        "  # Calculate the five inputs and pass to the predict function\n",
        "  avg_pts = data[data.index == today]['Avg_Pts'][0]\n",
        "  avg_pts_3 = data[data.index == today]['Avg_Pts_Last_3'][0]\n",
        "  home = data[data.index == today]['Home'][0]\n",
        "  days_rest = data[data.index == today]['Days_Rest'][0]\n",
        "  def_rating = data[data.index == today]['DRtg/A'][0]\n",
        "\n",
        "  inputs = pd.DataFrame([[avg_pts, avg_pts_3, home, days_rest, def_rating]], columns = list(X_train.columns))\n",
        "  return rf.predict(inputs)"
      ],
      "metadata": {
        "id": "210k6MFpHcVS"
      },
      "execution_count": null,
      "outputs": []
    },
    {
      "cell_type": "markdown",
      "source": [
        "## Today's Games"
      ],
      "metadata": {
        "id": "UCyWhg5dK4Ry"
      }
    },
    {
      "cell_type": "code",
      "source": [
        "# Make it all a function\n",
        "def todays_games():\n",
        "  currentMonth = (datetime.now() - timedelta(hours = 8)).strftime('%B')\n",
        "  schedule = 'https://www.basketball-reference.com/leagues/NBA_2023_games-{}.html'.format(currentMonth.lower())\n",
        "\n",
        "  sch = pd.read_html(schedule)[0]\n",
        "  sch = sch.rename(columns = {'Visitor/Neutral' : 'Away',\n",
        "                              'Home/Neutral' : 'Home'})\n",
        "\n",
        "  # Convert Date to datetime objects\n",
        "  sch['Date'] = pd.to_datetime(sch['Date'])\n",
        "\n",
        "  # Filter df to today's date\n",
        "  today = (datetime.today() - timedelta(hours = 8)).strftime('%Y-%m-%d')\n",
        "  sch = sch[sch['Date'] == today]\n",
        "\n",
        "  return sch[['Date', 'Away', 'Home']]\n",
        "\n",
        "sch = todays_games()\n",
        "games = list(zip(sch['Away'], sch['Home']))"
      ],
      "metadata": {
        "id": "ln-AxeGDOrkS"
      },
      "execution_count": null,
      "outputs": []
    },
    {
      "cell_type": "code",
      "source": [
        "print((datetime.today() - timedelta(hours = 8)).strftime('%Y-%m-%d'))\n",
        "def_ranks = defensive_rank(2023)\n",
        "i = 1\n",
        "for a, h in games:\n",
        "  away = team_dict[a]\n",
        "  home = team_dict[h]\n",
        "  time.sleep(2)\n",
        "  away_pts = np.round(predict_points(2023, away, def_ranks), 2)\n",
        "  time.sleep(2)\n",
        "  home_pts = np.round(predict_points(2023, home, def_ranks), 2)\n",
        "  print('Game {}'.format(i))\n",
        "  print('{}: {}'.format(away, away_pts))\n",
        "  print('{}: {}'.format(home, home_pts))\n",
        "  print()\n",
        "  i += 1"
      ],
      "metadata": {
        "colab": {
          "base_uri": "https://localhost:8080/"
        },
        "id": "rkezUG-ibFfG",
        "outputId": "f2e60886-ef81-4638-d1ae-adc2c6609f08"
      },
      "execution_count": null,
      "outputs": [
        {
          "output_type": "stream",
          "name": "stdout",
          "text": [
            "2023-02-02\n",
            "Game 1\n",
            "LAL: [118.69]\n",
            "IND: [121.6]\n",
            "\n",
            "Game 2\n",
            "MEM: [107.15]\n",
            "CLE: [112.09]\n",
            "\n",
            "Game 3\n",
            "MIA: [110.95]\n",
            "NYK: [109.65]\n",
            "\n",
            "Game 4\n",
            "CHO: [111.67]\n",
            "CHI: [117.65]\n",
            "\n",
            "Game 5\n",
            "NOP: [114.6]\n",
            "DAL: [105.63]\n",
            "\n",
            "Game 6\n",
            "GSW: [113.83]\n",
            "DEN: [116.67]\n",
            "\n",
            "Game 7\n",
            "LAC: [107.51]\n",
            "MIL: [116.55]\n",
            "\n"
          ]
        }
      ]
    },
    {
      "cell_type": "code",
      "source": [],
      "metadata": {
        "id": "l_sRHea7Iz5M"
      },
      "execution_count": null,
      "outputs": []
    }
  ]
}